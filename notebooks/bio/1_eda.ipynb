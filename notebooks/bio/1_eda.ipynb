{
 "cells": [
  {
   "cell_type": "code",
   "execution_count": 9,
   "metadata": {},
   "outputs": [],
   "source": [
    "import os\n",
    "import pandas as pd\n",
    "\n",
    "from sklearn.model_selection import train_test_split"
   ]
  },
  {
   "cell_type": "markdown",
   "metadata": {},
   "source": [
    "## Full data analysis"
   ]
  },
  {
   "cell_type": "code",
   "execution_count": 2,
   "metadata": {},
   "outputs": [],
   "source": [
    "corpus_data = pd.read_parquet(\"hf://datasets/nirantk/geneticsQA-corpus/data/train-00000-of-00001.parquet\")"
   ]
  },
  {
   "cell_type": "code",
   "execution_count": 3,
   "metadata": {},
   "outputs": [
    {
     "data": {
      "text/html": [
       "<div>\n",
       "<style scoped>\n",
       "    .dataframe tbody tr th:only-of-type {\n",
       "        vertical-align: middle;\n",
       "    }\n",
       "\n",
       "    .dataframe tbody tr th {\n",
       "        vertical-align: top;\n",
       "    }\n",
       "\n",
       "    .dataframe thead th {\n",
       "        text-align: right;\n",
       "    }\n",
       "</style>\n",
       "<table border=\"1\" class=\"dataframe\">\n",
       "  <thead>\n",
       "    <tr style=\"text-align: right;\">\n",
       "      <th></th>\n",
       "      <th>text</th>\n",
       "    </tr>\n",
       "  </thead>\n",
       "  <tbody>\n",
       "    <tr>\n",
       "      <th>29387</th>\n",
       "      <td>After removing IFs by calcination, electron microscopy revealed hollow silica nanotubes several micrometers long, with outer diameters of 35-55 nm and an average inner diameter of 10 nm (comparable to that of IFs)</td>\n",
       "    </tr>\n",
       "    <tr>\n",
       "      <th>32684</th>\n",
       "      <td>Lysyl oxidase-like 1, a crosslinking enzyme implicated in collagen and elastin biogenesis</td>\n",
       "    </tr>\n",
       "  </tbody>\n",
       "</table>\n",
       "</div>"
      ],
      "text/plain": [
       "                                                                                                                                                                                                                        text\n",
       "29387  After removing IFs by calcination, electron microscopy revealed hollow silica nanotubes several micrometers long, with outer diameters of 35-55 nm and an average inner diameter of 10 nm (comparable to that of IFs)\n",
       "32684                                                                                                                              Lysyl oxidase-like 1, a crosslinking enzyme implicated in collagen and elastin biogenesis"
      ]
     },
     "metadata": {},
     "output_type": "display_data"
    }
   ],
   "source": [
    "pd.set_option('display.max_colwidth', None)\n",
    "display(corpus_data.sample(2))\n",
    "pd.reset_option('display.max_colwidth')"
   ]
  },
  {
   "cell_type": "markdown",
   "metadata": {},
   "source": [
    "## Labeled data analysis"
   ]
  },
  {
   "cell_type": "code",
   "execution_count": 4,
   "metadata": {},
   "outputs": [
    {
     "name": "stdout",
     "output_type": "stream",
     "text": [
      "Number of samples in the labeled_data: 1659\n",
      "Columns in the labeled_data: ['question', 'contexts', 'ground_truth', 'exact_answer']\n"
     ]
    }
   ],
   "source": [
    "labeled_data = pd.read_parquet(\"hf://datasets/nirantk/geneticsQA-train/data/train-00000-of-00001.parquet\")\n",
    "print(f'Number of samples in the labeled_data: {len(labeled_data)}')\n",
    "print(f\"Columns in the labeled_data: {labeled_data.columns.tolist()}\")\n",
    "labeled_data['contexts'] = labeled_data['contexts'].apply(eval)\n"
   ]
  },
  {
   "cell_type": "code",
   "execution_count": 5,
   "metadata": {},
   "outputs": [
    {
     "data": {
      "text/html": [
       "<div>\n",
       "<style scoped>\n",
       "    .dataframe tbody tr th:only-of-type {\n",
       "        vertical-align: middle;\n",
       "    }\n",
       "\n",
       "    .dataframe tbody tr th {\n",
       "        vertical-align: top;\n",
       "    }\n",
       "\n",
       "    .dataframe thead th {\n",
       "        text-align: right;\n",
       "    }\n",
       "</style>\n",
       "<table border=\"1\" class=\"dataframe\">\n",
       "  <thead>\n",
       "    <tr style=\"text-align: right;\">\n",
       "      <th></th>\n",
       "      <th>question</th>\n",
       "      <th>contexts</th>\n",
       "      <th>ground_truth</th>\n",
       "      <th>exact_answer</th>\n",
       "    </tr>\n",
       "  </thead>\n",
       "  <tbody>\n",
       "    <tr>\n",
       "      <th>0</th>\n",
       "      <td>What is Snord116?</td>\n",
       "      <td>[Further analysis with array-CGH identified a ...</td>\n",
       "      <td>['SNORD116 is a small nucleolar (sno) RNA gene...</td>\n",
       "      <td>[]</td>\n",
       "    </tr>\n",
       "    <tr>\n",
       "      <th>1</th>\n",
       "      <td>Are ultraconserved elements often transcribed?</td>\n",
       "      <td>[Starting from a genome-wide expression profil...</td>\n",
       "      <td>['Yes.  Especially, a large fraction of non-ex...</td>\n",
       "      <td>['yes']</td>\n",
       "    </tr>\n",
       "    <tr>\n",
       "      <th>2</th>\n",
       "      <td>List metalloenzyme inhibitors.</td>\n",
       "      <td>[ Clinically approved inhibitors were selected...</td>\n",
       "      <td>['Foscarnet\\nVT-1129\\nVT-1161 \\nBB-3497\\nhydro...</td>\n",
       "      <td>['VT-1129', 'VT-1161', 'BB-3497', 'hydroxamate...</td>\n",
       "    </tr>\n",
       "    <tr>\n",
       "      <th>3</th>\n",
       "      <td>Which protein phosphatase has been found to in...</td>\n",
       "      <td>[ Moreover, protein phosphatase-1 activity is ...</td>\n",
       "      <td>['Protein phosphatase-1 activity is regulated ...</td>\n",
       "      <td>['Protein phosphatase 1', 'PP1']</td>\n",
       "    </tr>\n",
       "    <tr>\n",
       "      <th>4</th>\n",
       "      <td>Do DNA double-strand breaks play a causal role...</td>\n",
       "      <td>[The DNA non-homologous end-joining repair gen...</td>\n",
       "      <td>['Yes. It has been demonstrated that induction...</td>\n",
       "      <td>['yes']</td>\n",
       "    </tr>\n",
       "  </tbody>\n",
       "</table>\n",
       "</div>"
      ],
      "text/plain": [
       "                                            question  \\\n",
       "0                                  What is Snord116?   \n",
       "1     Are ultraconserved elements often transcribed?   \n",
       "2                     List metalloenzyme inhibitors.   \n",
       "3  Which protein phosphatase has been found to in...   \n",
       "4  Do DNA double-strand breaks play a causal role...   \n",
       "\n",
       "                                            contexts  \\\n",
       "0  [Further analysis with array-CGH identified a ...   \n",
       "1  [Starting from a genome-wide expression profil...   \n",
       "2  [ Clinically approved inhibitors were selected...   \n",
       "3  [ Moreover, protein phosphatase-1 activity is ...   \n",
       "4  [The DNA non-homologous end-joining repair gen...   \n",
       "\n",
       "                                        ground_truth  \\\n",
       "0  ['SNORD116 is a small nucleolar (sno) RNA gene...   \n",
       "1  ['Yes.  Especially, a large fraction of non-ex...   \n",
       "2  ['Foscarnet\\nVT-1129\\nVT-1161 \\nBB-3497\\nhydro...   \n",
       "3  ['Protein phosphatase-1 activity is regulated ...   \n",
       "4  ['Yes. It has been demonstrated that induction...   \n",
       "\n",
       "                                        exact_answer  \n",
       "0                                                 []  \n",
       "1                                            ['yes']  \n",
       "2  ['VT-1129', 'VT-1161', 'BB-3497', 'hydroxamate...  \n",
       "3                   ['Protein phosphatase 1', 'PP1']  \n",
       "4                                            ['yes']  "
      ]
     },
     "execution_count": 5,
     "metadata": {},
     "output_type": "execute_result"
    }
   ],
   "source": [
    "labeled_data.head()"
   ]
  },
  {
   "cell_type": "code",
   "execution_count": 6,
   "metadata": {},
   "outputs": [
    {
     "data": {
      "text/html": [
       "<div>\n",
       "<style scoped>\n",
       "    .dataframe tbody tr th:only-of-type {\n",
       "        vertical-align: middle;\n",
       "    }\n",
       "\n",
       "    .dataframe tbody tr th {\n",
       "        vertical-align: top;\n",
       "    }\n",
       "\n",
       "    .dataframe thead th {\n",
       "        text-align: right;\n",
       "    }\n",
       "</style>\n",
       "<table border=\"1\" class=\"dataframe\">\n",
       "  <thead>\n",
       "    <tr style=\"text-align: right;\">\n",
       "      <th></th>\n",
       "      <th>question</th>\n",
       "      <th>contexts</th>\n",
       "      <th>ground_truth</th>\n",
       "      <th>exact_answer</th>\n",
       "    </tr>\n",
       "  </thead>\n",
       "  <tbody>\n",
       "    <tr>\n",
       "      <th>21</th>\n",
       "      <td>What is the causative agent of the \"Panama disease\" affecting bananas?</td>\n",
       "      <td>[Fusarium oxysporum f. sp. cubense (Foc), the causal agent of Fusarium wilt (Panama disease), is one of the most devastating diseases of banana (Musa spp.), avendish, the most widely grown banana cultivar, is relatively resistant to Race 1 of Fusarium oxysporum f. sp. cubense (Foc1) which caused widespread Panama disease during the first half of the 20th century but is susceptible to Tropical Race 4 of Foc (Foc TR4) which is threatening world banana production. , Fusarium oxysporum f. sp. cubense race 4 (FOC), the causal agent of Panama disease in banana,, Fusarium oxysporum f.sp. cubense, a causative agent of Panama disease, Fusarium wilt of banana (also known as Panama disease) is caused by Fusarium oxysporum f. sp. cubense,  inoculated with Fusarium oxysporum f.sp. cubense (FOC), Race 4, the causal agent of Panama disease, the fungus causing Panama disease of banana, Panama disease of banana, caused by the fungus Fusarium oxysporum f. sp. cubense, is a serious constraint both to the commercial production of banana and cultivation for subsistence agriculture]</td>\n",
       "      <td>['Panama disease of banana is caused by the fungus Fusarium oxysporum f. sp. cubense.']</td>\n",
       "      <td>['Fusarium oxysporum f. sp. cubense']</td>\n",
       "    </tr>\n",
       "  </tbody>\n",
       "</table>\n",
       "</div>"
      ],
      "text/plain": [
       "                                                                  question  \\\n",
       "21  What is the causative agent of the \"Panama disease\" affecting bananas?   \n",
       "\n",
       "                                                                                                                                                                                                                                                                                                                                                                                                                                                                                                                                                                                                                                                                                                                                                                                                                                                                                                                                                                                                                                                                                                                 contexts  \\\n",
       "21  [Fusarium oxysporum f. sp. cubense (Foc), the causal agent of Fusarium wilt (Panama disease), is one of the most devastating diseases of banana (Musa spp.), avendish, the most widely grown banana cultivar, is relatively resistant to Race 1 of Fusarium oxysporum f. sp. cubense (Foc1) which caused widespread Panama disease during the first half of the 20th century but is susceptible to Tropical Race 4 of Foc (Foc TR4) which is threatening world banana production. , Fusarium oxysporum f. sp. cubense race 4 (FOC), the causal agent of Panama disease in banana,, Fusarium oxysporum f.sp. cubense, a causative agent of Panama disease, Fusarium wilt of banana (also known as Panama disease) is caused by Fusarium oxysporum f. sp. cubense,  inoculated with Fusarium oxysporum f.sp. cubense (FOC), Race 4, the causal agent of Panama disease, the fungus causing Panama disease of banana, Panama disease of banana, caused by the fungus Fusarium oxysporum f. sp. cubense, is a serious constraint both to the commercial production of banana and cultivation for subsistence agriculture]   \n",
       "\n",
       "                                                                               ground_truth  \\\n",
       "21  ['Panama disease of banana is caused by the fungus Fusarium oxysporum f. sp. cubense.']   \n",
       "\n",
       "                             exact_answer  \n",
       "21  ['Fusarium oxysporum f. sp. cubense']  "
      ]
     },
     "metadata": {},
     "output_type": "display_data"
    },
    {
     "name": "stdout",
     "output_type": "stream",
     "text": [
      "Number of contexts: 8\n"
     ]
    }
   ],
   "source": [
    "# Sample row\n",
    "pd.set_option('display.max_colwidth', None)\n",
    "display(labeled_data[21:22])\n",
    "pd.reset_option('display.max_colwidth')\n",
    "print(f\"Number of contexts: {len(labeled_data[21:22]['contexts'].item())}\")\n"
   ]
  },
  {
   "cell_type": "code",
   "execution_count": 7,
   "metadata": {},
   "outputs": [
    {
     "data": {
      "text/html": [
       "<div>\n",
       "<style scoped>\n",
       "    .dataframe tbody tr th:only-of-type {\n",
       "        vertical-align: middle;\n",
       "    }\n",
       "\n",
       "    .dataframe tbody tr th {\n",
       "        vertical-align: top;\n",
       "    }\n",
       "\n",
       "    .dataframe thead th {\n",
       "        text-align: right;\n",
       "    }\n",
       "</style>\n",
       "<table border=\"1\" class=\"dataframe\">\n",
       "  <thead>\n",
       "    <tr style=\"text-align: right;\">\n",
       "      <th></th>\n",
       "      <th>question</th>\n",
       "      <th>contexts</th>\n",
       "      <th>ground_truth</th>\n",
       "      <th>exact_answer</th>\n",
       "    </tr>\n",
       "  </thead>\n",
       "  <tbody>\n",
       "    <tr>\n",
       "      <th>17</th>\n",
       "      <td>What organism causes woolsorter's disease</td>\n",
       "      <td>[Today, woolsorters' disease and other industrial manifestations of anthrax are extremely rare, , Working independently of their more famous counterparts (Robert Koch and Louis Pasteur), Anglo-American anthrax investigators used visual representations of anthrax bacilli to persuade their peers that a specific, identifiable cause produced all forms of anthrax-malignant pustule (cutaneous anthrax), intestinal anthrax, and woolsorter's disease (pneumonic anthrax). , Today, woolsorters' disease and other industrial manifestations of anthrax are extremely rare, but the increasing threat of bioterrorism means that the international dread and historical lessons of this significant condition should never be forgotten. , Today, woolsorters' disease and other industrial manifestations of anthrax are extremely rare, but the increasing threat of bioterrorism means that the international dread and historical lessons of this significant condition should never be forgotten.]</td>\n",
       "      <td>[\"Woolsorter's disease is caused by the same organism as Anthrax, bacillus Anthrax. \"]</td>\n",
       "      <td>['Bacillus Anthracis']</td>\n",
       "    </tr>\n",
       "  </tbody>\n",
       "</table>\n",
       "</div>"
      ],
      "text/plain": [
       "                                     question  \\\n",
       "17  What organism causes woolsorter's disease   \n",
       "\n",
       "                                                                                                                                                                                                                                                                                                                                                                                                                                                                                                                                                                                                                                                                                                                                                                                                                                                                                                                                                                                                          contexts  \\\n",
       "17  [Today, woolsorters' disease and other industrial manifestations of anthrax are extremely rare, , Working independently of their more famous counterparts (Robert Koch and Louis Pasteur), Anglo-American anthrax investigators used visual representations of anthrax bacilli to persuade their peers that a specific, identifiable cause produced all forms of anthrax-malignant pustule (cutaneous anthrax), intestinal anthrax, and woolsorter's disease (pneumonic anthrax). , Today, woolsorters' disease and other industrial manifestations of anthrax are extremely rare, but the increasing threat of bioterrorism means that the international dread and historical lessons of this significant condition should never be forgotten. , Today, woolsorters' disease and other industrial manifestations of anthrax are extremely rare, but the increasing threat of bioterrorism means that the international dread and historical lessons of this significant condition should never be forgotten.]   \n",
       "\n",
       "                                                                              ground_truth  \\\n",
       "17  [\"Woolsorter's disease is caused by the same organism as Anthrax, bacillus Anthrax. \"]   \n",
       "\n",
       "              exact_answer  \n",
       "17  ['Bacillus Anthracis']  "
      ]
     },
     "metadata": {},
     "output_type": "display_data"
    },
    {
     "name": "stdout",
     "output_type": "stream",
     "text": [
      "Number of contexts: 4\n"
     ]
    }
   ],
   "source": [
    "# Sample row\n",
    "pd.set_option('display.max_colwidth', None)\n",
    "display(labeled_data[17:18])\n",
    "pd.reset_option('display.max_colwidth')\n",
    "print(f\"Number of contexts: {len(labeled_data[17:18]['contexts'].item())}\")"
   ]
  },
  {
   "cell_type": "markdown",
   "metadata": {},
   "source": [
    "## Split the labeled data into train, valid and test set"
   ]
  },
  {
   "cell_type": "code",
   "execution_count": 8,
   "metadata": {},
   "outputs": [
    {
     "name": "stdout",
     "output_type": "stream",
     "text": [
      "Number of samples in the train_data: 1327\n",
      "Number of samples in the valid_data: 166\n",
      "Number of samples in the test_data: 166\n"
     ]
    }
   ],
   "source": [
    "# Split the data into train, validation, and test sets\n",
    "train_data, temp_data = train_test_split(labeled_data, test_size=0.2, random_state=42)\n",
    "valid_data, test_data = train_test_split(temp_data, test_size=0.5, random_state=42)\n",
    "\n",
    "print(f'Number of samples in the train_data: {len(train_data)}')\n",
    "print(f'Number of samples in the valid_data: {len(valid_data)}')\n",
    "print(f'Number of samples in the test_data: {len(test_data)}')"
   ]
  },
  {
   "cell_type": "markdown",
   "metadata": {},
   "source": [
    "## Export the corpus and the labeled datasets and the splits"
   ]
  },
  {
   "cell_type": "code",
   "execution_count": 11,
   "metadata": {},
   "outputs": [
    {
     "name": "stdout",
     "output_type": "stream",
     "text": [
      "Labeled data, splits, and corpus data have been exported to /home/ubuntu/search-course/data/bio\n",
      "Number of samples in the labeled_data: 1659\n",
      "Number of samples in the train_data: 1327\n",
      "Number of samples in the valid_data: 166\n",
      "Number of samples in the test_data: 166\n",
      "Number of samples in the corpus_data: 35523\n"
     ]
    }
   ],
   "source": [
    "data_directory = '/home/ubuntu/search-course/data/bio'\n",
    "os.makedirs(data_directory, exist_ok=True)\n",
    "\n",
    "# Export the full labeled data\n",
    "labeled_data.to_csv(os.path.join(data_directory, 'labeled_data.csv'), index=False)\n",
    "\n",
    "# Export the train, validation, and test splits\n",
    "train_data.to_csv(os.path.join(data_directory, 'train_data.csv'), index=False)\n",
    "valid_data.to_csv(os.path.join(data_directory, 'valid_data.csv'), index=False)\n",
    "test_data.to_csv(os.path.join(data_directory, 'test_data.csv'), index=False)\n",
    "\n",
    "# Export the corpus data\n",
    "corpus_data.to_csv(os.path.join(data_directory, 'corpus_data.csv'), index=False)\n",
    "print(f'Labeled data, splits, and corpus data have been exported to {data_directory}')\n",
    "\n",
    "print(f'Number of samples in the labeled_data: {len(labeled_data)}')\n",
    "print(f'Number of samples in the train_data: {len(train_data)}')\n",
    "print(f'Number of samples in the valid_data: {len(valid_data)}')\n",
    "print(f'Number of samples in the test_data: {len(test_data)}')\n",
    "print(f'Number of samples in the corpus_data: {len(corpus_data)}')\n"
   ]
  }
 ],
 "metadata": {
  "kernelspec": {
   "display_name": "search-course",
   "language": "python",
   "name": "python3"
  },
  "language_info": {
   "codemirror_mode": {
    "name": "ipython",
    "version": 3
   },
   "file_extension": ".py",
   "mimetype": "text/x-python",
   "name": "python",
   "nbconvert_exporter": "python",
   "pygments_lexer": "ipython3",
   "version": "3.11.10"
  }
 },
 "nbformat": 4,
 "nbformat_minor": 2
}
